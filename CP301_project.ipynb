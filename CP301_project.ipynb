{
 "cells": [
  {
   "cell_type": "markdown",
   "id": "c3f69df2-069c-4b77-8e18-6ab4dcd12e30",
   "metadata": {},
   "source": [
    "# PREPROCESSING ROP IMAGE DATSET\n"
   ]
  },
  {
   "cell_type": "code",
   "execution_count": 1,
   "id": "9548d440-2a8b-4ccb-8227-0edc8371079a",
   "metadata": {},
   "outputs": [
    {
     "name": "stdout",
     "output_type": "stream",
     "text": [
      "Processing AROP1...\n"
     ]
    },
    {
     "name": "stderr",
     "output_type": "stream",
     "text": [
      "100%|██████████| 375/375 [00:24<00:00, 15.56it/s]\n"
     ]
    },
    {
     "name": "stdout",
     "output_type": "stream",
     "text": [
      "Processing AROP2...\n"
     ]
    },
    {
     "name": "stderr",
     "output_type": "stream",
     "text": [
      "100%|██████████| 849/849 [01:11<00:00, 11.85it/s]\n"
     ]
    },
    {
     "name": "stdout",
     "output_type": "stream",
     "text": [
      "Processing NORMALROP...\n"
     ]
    },
    {
     "name": "stderr",
     "output_type": "stream",
     "text": [
      "100%|██████████| 706/706 [00:45<00:00, 15.48it/s]\n"
     ]
    }
   ],
   "source": [
    "import os\n",
    "import cv2\n",
    "import numpy as np\n",
    "from tqdm import tqdm\n",
    "\n",
    "# Parameters\n",
    "input_root = \"ROP_data/ROPTEST3\"\n",
    "output_root = \"Preprocessed_ROP_image\"\n",
    "target_size = (224, 224)  # CNN standard size (e.g., for ResNet, VGG)\n",
    "\n",
    "# Ensure output folder exists\n",
    "os.makedirs(output_root, exist_ok=True)\n",
    "\n",
    "# Go through each class folder\n",
    "class_folders = ['AROP1', 'AROP2', 'NORMALROP']\n",
    "\n",
    "for class_name in class_folders:\n",
    "    input_folder = os.path.join(input_root, class_name)\n",
    "    output_folder = os.path.join(output_root, class_name)\n",
    "    os.makedirs(output_folder, exist_ok=True)\n",
    "\n",
    "    print(f\"Processing {class_name}...\")\n",
    "\n",
    "    for img_name in tqdm(os.listdir(input_folder)):\n",
    "        img_path = os.path.join(input_folder, img_name)\n",
    "\n",
    "        try:\n",
    "            # Read image\n",
    "            img = cv2.imread(img_path)\n",
    "\n",
    "            if img is None:\n",
    "                continue\n",
    "\n",
    "            # Convert to RGB if not already\n",
    "            img = cv2.cvtColor(img, cv2.COLOR_BGR2RGB)\n",
    "\n",
    "            # Resize to 224x224\n",
    "            img = cv2.resize(img, target_size)\n",
    "\n",
    "            # Normalize pixel values to [0, 1]\n",
    "            img = img / 255.0\n",
    "\n",
    "            # Optionally convert to float32 for deep learning compatibility\n",
    "            img = img.astype(np.float32)\n",
    "\n",
    "            # Save as .npy for fast loading in CNNs (preferred for training)\n",
    "            out_path = os.path.join(output_folder, img_name.split('.')[0] + \".npy\")\n",
    "            np.save(out_path, img)\n",
    "\n",
    "        except Exception as e:\n",
    "            print(f\"Failed to process {img_name}: {e}\")\n"
   ]
  },
  {
   "cell_type": "markdown",
   "id": "fa5dc561-9467-4c77-81c1-12640c3f65bd",
   "metadata": {},
   "source": [
    "# IMPLEMENTING A MODEL"
   ]
  },
  {
   "cell_type": "code",
   "execution_count": 12,
   "id": "3d3086f6-ae9a-4039-914d-10d536fe6738",
   "metadata": {},
   "outputs": [
    {
     "name": "stdout",
     "output_type": "stream",
     "text": [
      "Epoch [1/10], Loss: 3.9263\n",
      "Epoch [2/10], Loss: 0.1291\n",
      "Epoch [3/10], Loss: 0.0674\n",
      "Epoch [4/10], Loss: 0.0962\n",
      "Epoch [5/10], Loss: 0.0779\n",
      "Epoch [6/10], Loss: 0.0575\n",
      "Epoch [7/10], Loss: 0.0188\n",
      "Epoch [8/10], Loss: 0.0215\n",
      "Epoch [9/10], Loss: 0.0113\n",
      "Epoch [10/10], Loss: 0.0072\n"
     ]
    }
   ],
   "source": [
    "import os\n",
    "import numpy as np\n",
    "import torch\n",
    "import torch.nn as nn\n",
    "import torch.optim as optim\n",
    "from torchvision import models, transforms\n",
    "from torch.utils.data import Dataset, DataLoader, random_split\n",
    "from sklearn.metrics import mean_squared_error\n",
    "import torch.nn.functional as F\n",
    "from PIL import Image\n",
    "\n",
    "# Dataset Loader for .npy images\n",
    "class ROPDataset(Dataset):\n",
    "    def __init__(self, root_dir, transform=None):\n",
    "        self.data = []\n",
    "        self.labels = []\n",
    "        self.transform = transform\n",
    "        self.class_map = {'NORMALROP': 0, 'AROP1': 1, 'AROP2': 2}\n",
    "        \n",
    "        # Loop over all subfolders (AROP1, AROP2, NORMALROP)\n",
    "        for class_name in self.class_map:\n",
    "            class_dir = os.path.join(root_dir, class_name)\n",
    "            for file in os.listdir(class_dir):\n",
    "                if file.endswith('.npy'):\n",
    "                    img = np.load(os.path.join(class_dir, file))\n",
    "                    self.data.append(img)\n",
    "                    self.labels.append(self.class_map[class_name])\n",
    "\n",
    "    def __len__(self):\n",
    "        return len(self.data)\n",
    "    \n",
    "    def __getitem__(self, idx):\n",
    "        img = self.data[idx]\n",
    "        label = self.labels[idx]\n",
    "        \n",
    "        # Ensure the image is 2D (grayscale), then expand to 3 channels (RGB)\n",
    "        if len(img.shape) == 2:  # If it's a grayscale image\n",
    "            img = np.repeat(img[..., np.newaxis], 3, axis=2)  # Convert to 3 channels (RGB)\n",
    "        \n",
    "        if self.transform:\n",
    "            img = self.transform(img)\n",
    "        return img, label\n",
    "\n",
    "# Define transformations (resize and convert to tensor)\n",
    "transform = transforms.Compose([\n",
    "    transforms.ToTensor(),\n",
    "    transforms.Resize((224, 224)),  # Resize image to 224x224 (resnet input size)\n",
    "])\n",
    "\n",
    "# Path to preprocessed images\n",
    "dataset_path = 'Preprocessed_ROP_image'\n",
    "\n",
    "# Create dataset and DataLoader\n",
    "dataset = ROPDataset(dataset_path, transform=transform)\n",
    "\n",
    "# Split dataset into training and testing sets\n",
    "train_size = int(0.8 * len(dataset))\n",
    "test_size = len(dataset) - train_size\n",
    "train_ds, test_ds = random_split(dataset, [train_size, test_size])\n",
    "\n",
    "train_loader = DataLoader(train_ds, batch_size=32, shuffle=True)\n",
    "test_loader = DataLoader(test_ds, batch_size=32)\n",
    "\n",
    "# Model using Transfer Learning (ResNet18)\n",
    "model = models.resnet18(weights='IMAGENET1K_V1')\n",
    "model.fc = nn.Linear(model.fc.in_features, 3)  # Output layer for 3 classes (NORMALROP, AROP1, AROP2)\n",
    "\n",
    "device = torch.device(\"cuda\" if torch.cuda.is_available() else \"cpu\")\n",
    "model = model.to(device)\n",
    "\n",
    "# Define loss function and optimizer\n",
    "criterion = nn.CrossEntropyLoss()\n",
    "optimizer = optim.Adam(model.parameters(), lr=0.0001)\n",
    "\n",
    "# Training loop\n",
    "num_epochs = 10\n",
    "for epoch in range(num_epochs):\n",
    "    model.train()\n",
    "    total_loss = 0\n",
    "    for imgs, labels in train_loader:\n",
    "        imgs, labels = imgs.to(device), labels.to(device)\n",
    "        optimizer.zero_grad()\n",
    "        outputs = model(imgs)\n",
    "        loss = criterion(outputs, labels)\n",
    "        loss.backward()\n",
    "        optimizer.step()\n",
    "        total_loss += loss.item()\n",
    "    \n",
    "    print(f\"Epoch [{epoch+1}/{num_epochs}], Loss: {total_loss:.4f}\")\n",
    "\n",
    "# Save the trained model\n",
    "torch.save(model.state_dict(), \"rop_model.pth\")\n"
   ]
  },
  {
   "cell_type": "markdown",
   "id": "2aa1c6c8-ea68-43ea-b001-b4ea02ac28e1",
   "metadata": {},
   "source": [
    "# USING REALTIME DATSET TO TEST THE MODEL"
   ]
  },
  {
   "cell_type": "code",
   "execution_count": 26,
   "id": "1207fe65-ce7b-4790-9702-aaa092271b17",
   "metadata": {},
   "outputs": [
    {
     "name": "stdout",
     "output_type": "stream",
     "text": [
      "📌 Select input type:\n",
      "1. Provide image from folder\n",
      "2. Capture image from camera\n"
     ]
    },
    {
     "name": "stdin",
     "output_type": "stream",
     "text": [
      "Enter 1 or 2:  1\n",
      "📂 Enter the full path of the image or .npy file:  777_20240123155618.png\n"
     ]
    },
    {
     "name": "stdout",
     "output_type": "stream",
     "text": [
      "\n",
      "🔍 Prediction: AROP1\n",
      "🔐 Confidence: 0.8373\n",
      "📊 Trust Score: ⚠️ Moderate Trust\n",
      "🧠 Diagnosis: ✅ Retinopathy Detected\n",
      "\n",
      "📊 Displaying brightness histogram...\n"
     ]
    },
    {
     "name": "stderr",
     "output_type": "stream",
     "text": [
      "C:\\Users\\abhis\\AppData\\Local\\Temp\\ipykernel_2084\\1493432265.py:57: UserWarning: Glyph 129514 (\\N{TEST TUBE}) missing from current font.\n",
      "  plt.tight_layout()\n"
     ]
    },
    {
     "data": {
      "image/png": "[encoded data removed]",
      "text/plain": [
       "<Figure size 600x400 with 1 Axes>"
      ]
     },
     "metadata": {},
     "output_type": "display_data"
    }
   ],
   "source": [
    "import torch\n",
    "import torch.nn as nn\n",
    "from torchvision import models, transforms\n",
    "import numpy as np\n",
    "from PIL import Image\n",
    "import os\n",
    "import matplotlib.pyplot as plt\n",
    "import cv2\n",
    "import tempfile\n",
    "import torch.nn.functional as F\n",
    "\n",
    "# Class map\n",
    "class_map = {0: 'NORMALROP', 1: 'AROP1', 2: 'AROP2'}\n",
    "retinopathy_classes = ['AROP1', 'AROP2']\n",
    "\n",
    "# Transformations (same as training)\n",
    "transform = transforms.Compose([\n",
    "    transforms.Resize((224, 224)),\n",
    "    transforms.ToTensor()\n",
    "])\n",
    "\n",
    "# Load model\n",
    "device = torch.device(\"cuda\" if torch.cuda.is_available() else \"cpu\")\n",
    "model = models.resnet18(weights=None)\n",
    "model.fc = nn.Linear(model.fc.in_features, 3)\n",
    "model.load_state_dict(torch.load(\"rop_model.pth\", map_location=device))\n",
    "model.to(device)\n",
    "model.eval()\n",
    "\n",
    "# Load image from path or npy\n",
    "def load_image(file_path):\n",
    "    ext = os.path.splitext(file_path)[1].lower()\n",
    "\n",
    "    if ext == '.npy':\n",
    "        img = np.load(file_path)\n",
    "        if img.ndim == 2:\n",
    "            img = np.repeat(img[..., np.newaxis], 3, axis=2)\n",
    "        img = (img * 255).astype(np.uint8) if img.max() <= 1 else img.astype(np.uint8)\n",
    "        original = Image.fromarray(img)\n",
    "    else:\n",
    "        original = Image.open(file_path).convert(\"RGB\")\n",
    "\n",
    "    img_tensor = transform(original).unsqueeze(0)\n",
    "    return img_tensor, original\n",
    "\n",
    "# Plot brightness histogram\n",
    "def plot_brightness_histogram(image):\n",
    "    gray = image.convert(\"L\")\n",
    "    pixel_values = np.array(gray).flatten()\n",
    "\n",
    "    plt.figure(figsize=(6, 4))\n",
    "    plt.hist(pixel_values, bins=256, range=(0, 255), color='gray')\n",
    "    plt.title(\"🧪 Brightness Histogram\")\n",
    "    plt.xlabel(\"Pixel Intensity (0=Dark, 255=Bright)\")\n",
    "    plt.ylabel(\"Frequency\")\n",
    "    plt.grid(True)\n",
    "    plt.tight_layout()\n",
    "    plt.show()\n",
    "\n",
    "# Capture image from webcam\n",
    "def capture_image_from_camera():\n",
    "    cap = cv2.VideoCapture(0)\n",
    "    print(\"📷 Press 'c' to capture the image, or 'q' to quit.\")\n",
    "    captured_path = None\n",
    "\n",
    "    while True:\n",
    "        ret, frame = cap.read()\n",
    "        if not ret:\n",
    "            print(\"❌ Failed to open camera.\")\n",
    "            break\n",
    "\n",
    "        cv2.imshow(\"Live Camera - Press 'c' to capture\", frame)\n",
    "        key = cv2.waitKey(1)\n",
    "\n",
    "        if key & 0xFF == ord('c'):\n",
    "            with tempfile.NamedTemporaryFile(suffix='.jpg', delete=False) as tmp:\n",
    "                captured_path = tmp.name\n",
    "                cv2.imwrite(captured_path, frame)\n",
    "                print(f\"✅ Image captured and saved at: {captured_path}\")\n",
    "            break\n",
    "        elif key & 0xFF == ord('q'):\n",
    "            print(\"🚪 Exiting without capturing.\")\n",
    "            break\n",
    "\n",
    "    cap.release()\n",
    "    cv2.destroyAllWindows()\n",
    "    return captured_path\n",
    "\n",
    "# Confidence Trust Report\n",
    "def get_trust_score(probability):\n",
    "    if probability >= 0.9:\n",
    "        return \"✅ High Trust\"\n",
    "    elif probability >= 0.7:\n",
    "        return \"⚠️ Moderate Trust\"\n",
    "    else:\n",
    "        return \"❌ Low Trust\"\n",
    "\n",
    "# Inference\n",
    "def predict_image():\n",
    "    print(\"📌 Select input type:\\n1. Provide image from folder\\n2. Capture image from camera\")\n",
    "    option = input(\"Enter 1 or 2: \").strip()\n",
    "\n",
    "    if option == '1':\n",
    "        file_path = input(\"📂 Enter the full path of the image or .npy file: \").strip()\n",
    "    elif option == '2':\n",
    "        file_path = capture_image_from_camera()\n",
    "        if file_path is None:\n",
    "            return\n",
    "    else:\n",
    "        print(\"❌ Invalid option.\")\n",
    "        return\n",
    "\n",
    "    if not os.path.exists(file_path):\n",
    "        print(\"❌ File not found.\")\n",
    "        return\n",
    "\n",
    "    img_tensor, original_img = load_image(file_path)\n",
    "    img_tensor = img_tensor.to(device)\n",
    "\n",
    "    with torch.no_grad():\n",
    "        output = model(img_tensor)\n",
    "        probabilities = F.softmax(output, dim=1).cpu().numpy()[0]\n",
    "        pred_class = np.argmax(probabilities)\n",
    "        pred_label = class_map[pred_class]\n",
    "        confidence = probabilities[pred_class]\n",
    "\n",
    "        print(f\"\\n🔍 Prediction: {pred_label}\")\n",
    "        print(f\"🔐 Confidence: {confidence:.4f}\")\n",
    "        print(f\"📊 Trust Score: {get_trust_score(confidence)}\")\n",
    "\n",
    "        if pred_label in retinopathy_classes:\n",
    "            print(\"🧠 Diagnosis: ✅ Retinopathy Detected\")\n",
    "        else:\n",
    "            print(\"🧠 Diagnosis: ❌ No Retinopathy (Normal)\")\n",
    "\n",
    "        # Histogram\n",
    "        print(\"\\n📊 Displaying brightness histogram...\")\n",
    "        plot_brightness_histogram(original_img)\n",
    "\n",
    "# 🔁 Run prediction\n",
    "predict_image()\n"
   ]
  },
  {
   "cell_type": "code",
   "execution_count": null,
   "id": "f96c5446-a9c8-486e-be2f-8c60a335de77",
   "metadata": {},
   "outputs": [],
   "source": []
  }
 ],
 "metadata": {
  "kernelspec": {
   "display_name": "Python 3 (ipykernel)",
   "language": "python",
   "name": "python3"
  },
  "language_info": {
   "codemirror_mode": {
    "name": "ipython",
    "version": 3
   },
   "file_extension": ".py",
   "mimetype": "text/x-python",
   "name": "python",
   "nbconvert_exporter": "python",
   "pygments_lexer": "ipython3",
   "version": "3.11.7"
  }
 },
 "nbformat": 4,
 "nbformat_minor": 5
}
