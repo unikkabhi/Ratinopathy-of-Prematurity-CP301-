{
 "cells": [
  {
   "cell_type": "code",
   "execution_count": null,
   "id": "85ac610d-6652-46b9-80b3-fbacc79ce5a4",
   "metadata": {},
   "outputs": [],
   "source": [
    "import os\n",
    "import cv2\n",
    "import numpy as np\n",
    "from tqdm import tqdm\n",
    "\n",
    "# Parameters\n",
    "input_root = \"ROP_data/ROPTEST3\"\n",
    "output_root = \"Preprocessed_ROP_image\"\n",
    "target_size = (224, 224)  # CNN standard size (e.g., for ResNet, VGG)\n",
    "\n",
    "\n",
    "os.makedirs(output_root, exist_ok=True)\n",
    "\n",
    "\n",
    "class_folders = ['AROP1', 'AROP2', 'NORMALROP']\n",
    "\n",
    "for class_name in class_folders:\n",
    "    input_folder = os.path.join(input_root, class_name)\n",
    "    output_folder = os.path.join(output_root, class_name)\n",
    "    os.makedirs(output_folder, exist_ok=True)\n",
    "\n",
    "    print(f\"Processing {class_name}...\")\n",
    "\n",
    "    for img_name in tqdm(os.listdir(input_folder)):\n",
    "        img_path = os.path.join(input_folder, img_name)\n",
    "\n",
    "        try:\n",
    "            # Read image\n",
    "            img = cv2.imread(img_path)\n",
    "\n",
    "            if img is None:\n",
    "                continue\n",
    "\n",
    "            # Convert to RGB if not already\n",
    "            img = cv2.cvtColor(img, cv2.COLOR_BGR2RGB)\n",
    "\n",
    "            # Resize to 224x224\n",
    "            img = cv2.resize(img, target_size)\n",
    "\n",
    "            # Normalize pixel values to [0, 1]\n",
    "            img = img / 255.0\n",
    "\n",
    "            # Optionally convert to float32 for deep learning compatibility\n",
    "            img = img.astype(np.float32)\n",
    "\n",
    "            # Save as .npy for fast loading in CNNs (preferred for training)\n",
    "            out_path = os.path.join(output_folder, img_name.split('.')[0] + \".npy\")\n",
    "            np.save(out_path, img)\n",
    "\n",
    "        except Exception as e:\n",
    "            print(f\"Failed to process {img_name}: {e}\")\n"
   ]
  }
 ],
 "metadata": {
  "kernelspec": {
   "display_name": "Python 3 (ipykernel)",
   "language": "python",
   "name": "python3"
  },
  "language_info": {
   "codemirror_mode": {
    "name": "ipython",
    "version": 3
   },
   "file_extension": ".py",
   "mimetype": "text/x-python",
   "name": "python",
   "nbconvert_exporter": "python",
   "pygments_lexer": "ipython3",
   "version": "3.11.7"
  }
 },
 "nbformat": 4,
 "nbformat_minor": 5
}
